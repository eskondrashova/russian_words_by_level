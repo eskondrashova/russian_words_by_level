{
  "nbformat": 4,
  "nbformat_minor": 0,
  "metadata": {
    "colab": {
      "provenance": []
    },
    "kernelspec": {
      "name": "python3",
      "display_name": "Python 3"
    },
    "language_info": {
      "name": "python"
    }
  },
  "cells": [
    {
      "cell_type": "markdown",
      "source": [
        "# Data Preprocessing"
      ],
      "metadata": {
        "id": "Sp8JZM4iyCLB"
      }
    },
    {
      "cell_type": "markdown",
      "source": [
        "### files uploading"
      ],
      "metadata": {
        "id": "BmycZuIp4fd7"
      }
    },
    {
      "cell_type": "code",
      "source": [
        "# files uploading\n",
        "\n",
        "from google.colab import files\n",
        "uploaded = files.upload()"
      ],
      "metadata": {
        "colab": {
          "base_uri": "https://localhost:8080/",
          "height": 39
        },
        "id": "BCW17FGRyG-3",
        "outputId": "75ff6da1-b368-4e7b-a958-a521abb42e04"
      },
      "execution_count": 612,
      "outputs": [
        {
          "output_type": "display_data",
          "data": {
            "text/plain": [
              "<IPython.core.display.HTML object>"
            ],
            "text/html": [
              "\n",
              "     <input type=\"file\" id=\"files-b86a1122-4de3-4854-81c9-29fd7e862577\" name=\"files[]\" multiple disabled\n",
              "        style=\"border:none\" />\n",
              "     <output id=\"result-b86a1122-4de3-4854-81c9-29fd7e862577\">\n",
              "      Upload widget is only available when the cell has been executed in the\n",
              "      current browser session. Please rerun this cell to enable.\n",
              "      </output>\n",
              "      <script>// Copyright 2017 Google LLC\n",
              "//\n",
              "// Licensed under the Apache License, Version 2.0 (the \"License\");\n",
              "// you may not use this file except in compliance with the License.\n",
              "// You may obtain a copy of the License at\n",
              "//\n",
              "//      http://www.apache.org/licenses/LICENSE-2.0\n",
              "//\n",
              "// Unless required by applicable law or agreed to in writing, software\n",
              "// distributed under the License is distributed on an \"AS IS\" BASIS,\n",
              "// WITHOUT WARRANTIES OR CONDITIONS OF ANY KIND, either express or implied.\n",
              "// See the License for the specific language governing permissions and\n",
              "// limitations under the License.\n",
              "\n",
              "/**\n",
              " * @fileoverview Helpers for google.colab Python module.\n",
              " */\n",
              "(function(scope) {\n",
              "function span(text, styleAttributes = {}) {\n",
              "  const element = document.createElement('span');\n",
              "  element.textContent = text;\n",
              "  for (const key of Object.keys(styleAttributes)) {\n",
              "    element.style[key] = styleAttributes[key];\n",
              "  }\n",
              "  return element;\n",
              "}\n",
              "\n",
              "// Max number of bytes which will be uploaded at a time.\n",
              "const MAX_PAYLOAD_SIZE = 100 * 1024;\n",
              "\n",
              "function _uploadFiles(inputId, outputId) {\n",
              "  const steps = uploadFilesStep(inputId, outputId);\n",
              "  const outputElement = document.getElementById(outputId);\n",
              "  // Cache steps on the outputElement to make it available for the next call\n",
              "  // to uploadFilesContinue from Python.\n",
              "  outputElement.steps = steps;\n",
              "\n",
              "  return _uploadFilesContinue(outputId);\n",
              "}\n",
              "\n",
              "// This is roughly an async generator (not supported in the browser yet),\n",
              "// where there are multiple asynchronous steps and the Python side is going\n",
              "// to poll for completion of each step.\n",
              "// This uses a Promise to block the python side on completion of each step,\n",
              "// then passes the result of the previous step as the input to the next step.\n",
              "function _uploadFilesContinue(outputId) {\n",
              "  const outputElement = document.getElementById(outputId);\n",
              "  const steps = outputElement.steps;\n",
              "\n",
              "  const next = steps.next(outputElement.lastPromiseValue);\n",
              "  return Promise.resolve(next.value.promise).then((value) => {\n",
              "    // Cache the last promise value to make it available to the next\n",
              "    // step of the generator.\n",
              "    outputElement.lastPromiseValue = value;\n",
              "    return next.value.response;\n",
              "  });\n",
              "}\n",
              "\n",
              "/**\n",
              " * Generator function which is called between each async step of the upload\n",
              " * process.\n",
              " * @param {string} inputId Element ID of the input file picker element.\n",
              " * @param {string} outputId Element ID of the output display.\n",
              " * @return {!Iterable<!Object>} Iterable of next steps.\n",
              " */\n",
              "function* uploadFilesStep(inputId, outputId) {\n",
              "  const inputElement = document.getElementById(inputId);\n",
              "  inputElement.disabled = false;\n",
              "\n",
              "  const outputElement = document.getElementById(outputId);\n",
              "  outputElement.innerHTML = '';\n",
              "\n",
              "  const pickedPromise = new Promise((resolve) => {\n",
              "    inputElement.addEventListener('change', (e) => {\n",
              "      resolve(e.target.files);\n",
              "    });\n",
              "  });\n",
              "\n",
              "  const cancel = document.createElement('button');\n",
              "  inputElement.parentElement.appendChild(cancel);\n",
              "  cancel.textContent = 'Cancel upload';\n",
              "  const cancelPromise = new Promise((resolve) => {\n",
              "    cancel.onclick = () => {\n",
              "      resolve(null);\n",
              "    };\n",
              "  });\n",
              "\n",
              "  // Wait for the user to pick the files.\n",
              "  const files = yield {\n",
              "    promise: Promise.race([pickedPromise, cancelPromise]),\n",
              "    response: {\n",
              "      action: 'starting',\n",
              "    }\n",
              "  };\n",
              "\n",
              "  cancel.remove();\n",
              "\n",
              "  // Disable the input element since further picks are not allowed.\n",
              "  inputElement.disabled = true;\n",
              "\n",
              "  if (!files) {\n",
              "    return {\n",
              "      response: {\n",
              "        action: 'complete',\n",
              "      }\n",
              "    };\n",
              "  }\n",
              "\n",
              "  for (const file of files) {\n",
              "    const li = document.createElement('li');\n",
              "    li.append(span(file.name, {fontWeight: 'bold'}));\n",
              "    li.append(span(\n",
              "        `(${file.type || 'n/a'}) - ${file.size} bytes, ` +\n",
              "        `last modified: ${\n",
              "            file.lastModifiedDate ? file.lastModifiedDate.toLocaleDateString() :\n",
              "                                    'n/a'} - `));\n",
              "    const percent = span('0% done');\n",
              "    li.appendChild(percent);\n",
              "\n",
              "    outputElement.appendChild(li);\n",
              "\n",
              "    const fileDataPromise = new Promise((resolve) => {\n",
              "      const reader = new FileReader();\n",
              "      reader.onload = (e) => {\n",
              "        resolve(e.target.result);\n",
              "      };\n",
              "      reader.readAsArrayBuffer(file);\n",
              "    });\n",
              "    // Wait for the data to be ready.\n",
              "    let fileData = yield {\n",
              "      promise: fileDataPromise,\n",
              "      response: {\n",
              "        action: 'continue',\n",
              "      }\n",
              "    };\n",
              "\n",
              "    // Use a chunked sending to avoid message size limits. See b/62115660.\n",
              "    let position = 0;\n",
              "    do {\n",
              "      const length = Math.min(fileData.byteLength - position, MAX_PAYLOAD_SIZE);\n",
              "      const chunk = new Uint8Array(fileData, position, length);\n",
              "      position += length;\n",
              "\n",
              "      const base64 = btoa(String.fromCharCode.apply(null, chunk));\n",
              "      yield {\n",
              "        response: {\n",
              "          action: 'append',\n",
              "          file: file.name,\n",
              "          data: base64,\n",
              "        },\n",
              "      };\n",
              "\n",
              "      let percentDone = fileData.byteLength === 0 ?\n",
              "          100 :\n",
              "          Math.round((position / fileData.byteLength) * 100);\n",
              "      percent.textContent = `${percentDone}% done`;\n",
              "\n",
              "    } while (position < fileData.byteLength);\n",
              "  }\n",
              "\n",
              "  // All done.\n",
              "  yield {\n",
              "    response: {\n",
              "      action: 'complete',\n",
              "    }\n",
              "  };\n",
              "}\n",
              "\n",
              "scope.google = scope.google || {};\n",
              "scope.google.colab = scope.google.colab || {};\n",
              "scope.google.colab._files = {\n",
              "  _uploadFiles,\n",
              "  _uploadFilesContinue,\n",
              "};\n",
              "})(self);\n",
              "</script> "
            ]
          },
          "metadata": {}
        }
      ]
    },
    {
      "cell_type": "code",
      "source": [
        "def save_to_list(file_txt: str):\n",
        "  with open(file_txt, 'r', encoding='utf-8') as file:\n",
        "    return file.readlines()"
      ],
      "metadata": {
        "id": "0JPFcsQOyHB9"
      },
      "execution_count": 599,
      "outputs": []
    },
    {
      "cell_type": "code",
      "source": [
        "words_A1 = save_to_list('words_A1.txt')\n",
        "words_A2 = save_to_list('words_A2.txt')\n",
        "words_B1 = save_to_list('words_B1.txt')"
      ],
      "metadata": {
        "id": "01tUP-JmyHEZ"
      },
      "execution_count": 765,
      "outputs": []
    },
    {
      "cell_type": "code",
      "source": [
        "words_A1[:10]"
      ],
      "metadata": {
        "colab": {
          "base_uri": "https://localhost:8080/"
        },
        "id": "lA4VOEFk0lf4",
        "outputId": "7e4505e0-9b5e-4d94-912f-3d156937a957"
      },
      "execution_count": 766,
      "outputs": [
        {
          "output_type": "execute_result",
          "data": {
            "text/plain": [
              "['а\\n',\n",
              " 'а́вгуст\\n',\n",
              " 'авто́бус\\n',\n",
              " 'а́втор\\n',\n",
              " 'а́дрес\\n',\n",
              " 'акти́вный\\n',\n",
              " 'англи́йский\\n',\n",
              " 'англича́нин\\n',\n",
              " 'а́нгло-русский\\n',\n",
              " 'апре́ль\\n']"
            ]
          },
          "metadata": {},
          "execution_count": 766
        }
      ]
    },
    {
      "cell_type": "code",
      "source": [
        "def delete_new_line(words: list):\n",
        "  stripped_words = []\n",
        "  for word in words:\n",
        "    stripped_words.append(word.strip())\n",
        "  return stripped_words"
      ],
      "metadata": {
        "id": "lcK0F2CEyHG5"
      },
      "execution_count": 767,
      "outputs": []
    },
    {
      "cell_type": "code",
      "source": [
        "words_A1 = delete_new_line(words_A1)\n",
        "words_A2 = delete_new_line(words_A2)\n",
        "words_B1 = delete_new_line(words_B1)"
      ],
      "metadata": {
        "id": "G6k7URWDyHKY"
      },
      "execution_count": 768,
      "outputs": []
    },
    {
      "cell_type": "code",
      "source": [
        "words_A1[:10]"
      ],
      "metadata": {
        "colab": {
          "base_uri": "https://localhost:8080/"
        },
        "id": "23MEdSXmyHOB",
        "outputId": "9f225c41-3bdd-4245-dbda-82fcec542547"
      },
      "execution_count": 769,
      "outputs": [
        {
          "output_type": "execute_result",
          "data": {
            "text/plain": [
              "['а',\n",
              " 'а́вгуст',\n",
              " 'авто́бус',\n",
              " 'а́втор',\n",
              " 'а́дрес',\n",
              " 'акти́вный',\n",
              " 'англи́йский',\n",
              " 'англича́нин',\n",
              " 'а́нгло-русский',\n",
              " 'апре́ль']"
            ]
          },
          "metadata": {},
          "execution_count": 769
        }
      ]
    },
    {
      "cell_type": "markdown",
      "source": [
        "### words preprocessing"
      ],
      "metadata": {
        "id": "W_xoJiqM4i0M"
      }
    },
    {
      "cell_type": "markdown",
      "source": [
        "*   replace stressed letters\n",
        "*   remove words with punctuation marks\n",
        "*   remove collocations\n",
        "*   remove words with numbers, e.g. \"мир 1\"; it means that this word might have different meanings, but for our task it's better to use unambigous words\n",
        "*   remove words with brackets (e.g. \"извини(те)\")"
      ],
      "metadata": {
        "id": "RU5UiBn64o2c"
      }
    },
    {
      "cell_type": "code",
      "source": [
        "import re"
      ],
      "metadata": {
        "id": "kUQhicja6J0l"
      },
      "execution_count": 770,
      "outputs": []
    },
    {
      "cell_type": "code",
      "source": [
        "# remove collocations + remove words with numbers\n",
        "\n",
        "def remove_collocations(word: str):\n",
        "  if len(word.split(' ')) == 1:\n",
        "    return word"
      ],
      "metadata": {
        "id": "8qPHmDOw86zt"
      },
      "execution_count": 771,
      "outputs": []
    },
    {
      "cell_type": "code",
      "source": [
        "# replace stressed letters\n",
        "# stressed letter in each word is a unicode symbol \"\\u0301\"\n",
        "\n",
        "def replace_stressed_letters(word: str):\n",
        "    return re.sub(r'\\u0301', '', word)"
      ],
      "metadata": {
        "id": "mGLbjtyN-Ajr"
      },
      "execution_count": 772,
      "outputs": []
    },
    {
      "cell_type": "code",
      "source": [
        "# remove words with punctuation marks + remove words with brackets\n",
        "\n",
        "def remove_punctuation(word: str):\n",
        "  if not re.search(r'[^\\s\\w\\d-]', word):\n",
        "    return word"
      ],
      "metadata": {
        "id": "SGaSwhkr55kX"
      },
      "execution_count": 773,
      "outputs": []
    },
    {
      "cell_type": "code",
      "source": [
        "def cleaning(words_list):\n",
        "  cleaned_words = []\n",
        "  for word in words_list:\n",
        "    word = replace_stressed_letters(word)\n",
        "    word = remove_punctuation(word)\n",
        "    if type(word) == str:\n",
        "      word = remove_collocations(word)\n",
        "      if type(word) == str:\n",
        "        cleaned_words.append(word)\n",
        "  return cleaned_words"
      ],
      "metadata": {
        "id": "iAZPCJMP00Ka"
      },
      "execution_count": 774,
      "outputs": []
    },
    {
      "cell_type": "code",
      "source": [
        "words_A1_cleaned = set(cleaning(words_A1))\n",
        "words_A2_cleaned = set(cleaning(words_A2))\n",
        "words_B1_cleaned = set(cleaning(words_B1))"
      ],
      "metadata": {
        "id": "DObCTe4I00NL"
      },
      "execution_count": 903,
      "outputs": []
    },
    {
      "cell_type": "code",
      "source": [
        "print(len(words_A1))\n",
        "print(len(words_A1_cleaned))"
      ],
      "metadata": {
        "colab": {
          "base_uri": "https://localhost:8080/"
        },
        "id": "YbznK-tiLbSW",
        "outputId": "635c68c7-9051-45a4-e5b0-b5d7aa575916"
      },
      "execution_count": 904,
      "outputs": [
        {
          "output_type": "stream",
          "name": "stdout",
          "text": [
            "719\n",
            "706\n"
          ]
        }
      ]
    },
    {
      "cell_type": "markdown",
      "source": [
        "### morphological analysis"
      ],
      "metadata": {
        "id": "-KGJXO2gLov8"
      }
    },
    {
      "cell_type": "code",
      "source": [
        "!pip install pymorphy2"
      ],
      "metadata": {
        "id": "B3y346zdNPCP"
      },
      "execution_count": null,
      "outputs": []
    },
    {
      "cell_type": "code",
      "source": [
        "import pymorphy2\n",
        "# from pymystem3 import Mystem"
      ],
      "metadata": {
        "id": "FkQQZbBOLtLG"
      },
      "execution_count": 779,
      "outputs": []
    },
    {
      "cell_type": "code",
      "source": [
        "# mystem = Mystem()\n",
        "morph_analyzer = pymorphy2.MorphAnalyzer()"
      ],
      "metadata": {
        "id": "4TL5IY5cLtXd"
      },
      "execution_count": 784,
      "outputs": []
    },
    {
      "cell_type": "code",
      "source": [
        "lmentry_words_ru = {key: {'pos': [], 'levels': []} for key in words_B1_cleaned)}"
      ],
      "metadata": {
        "id": "edEUrEOBYoo6"
      },
      "execution_count": 917,
      "outputs": []
    },
    {
      "cell_type": "code",
      "source": [
        "# get parts of speech\n",
        "\n",
        "def get_pos(word: str):\n",
        "  parses = morph_analyzer.parse(word)\n",
        "  tags = []\n",
        "  for parse in parses:\n",
        "    tag = parse.tag.POS\n",
        "    tags.append(tag)\n",
        "  return set(tags)"
      ],
      "metadata": {
        "id": "Lz-bx0wCRDHU"
      },
      "execution_count": 918,
      "outputs": []
    },
    {
      "cell_type": "code",
      "source": [
        "# get levels\n",
        "\n",
        "def get_level(word: str):\n",
        "  levels = []\n",
        "  if word in words_A1_cleaned:\n",
        "    levels.append('A1')\n",
        "  elif word in words_A2_cleaned:\n",
        "    levels.append('A2')\n",
        "  levels.append('B1')\n",
        "  return levels"
      ],
      "metadata": {
        "id": "es_EWVRpRDSN"
      },
      "execution_count": 919,
      "outputs": []
    },
    {
      "cell_type": "code",
      "source": [
        "for word in words_B1_cleaned:\n",
        "  pos = get_pos(word)\n",
        "  levels = get_level(word)\n",
        "\n",
        "  lmentry_words_ru[word]['pos'].extend(pos)\n",
        "  lmentry_words_ru[word]['levels'].extend(levels)"
      ],
      "metadata": {
        "id": "AfDpqojniau4"
      },
      "execution_count": 920,
      "outputs": []
    },
    {
      "cell_type": "code",
      "source": [
        "lmentry_words_ru"
      ],
      "metadata": {
        "id": "T3wdgOtdgL0m"
      },
      "execution_count": null,
      "outputs": []
    },
    {
      "cell_type": "markdown",
      "source": [
        "### import to json"
      ],
      "metadata": {
        "id": "sAur_UzRpajA"
      }
    },
    {
      "cell_type": "code",
      "source": [
        "import json"
      ],
      "metadata": {
        "id": "HhTlK6-Eph1Y"
      },
      "execution_count": 922,
      "outputs": []
    },
    {
      "cell_type": "code",
      "source": [
        "with open(\"lmentry_words_ru.json\", \"w\") as outfile:\n",
        "    json.dump(lmentry_words_ru, outfile, indent=4, ensure_ascii=False)"
      ],
      "metadata": {
        "id": "14YH0-Y3ph_i"
      },
      "execution_count": 925,
      "outputs": []
    }
  ]
}